{
 "cells": [
  {
   "cell_type": "markdown",
   "metadata": {},
   "source": [
    "# Face Detection\n",
    "\n",
    "* Step 1: Access webcam camera\n",
    "* Step 2: Create face datection program using Haarcascade method\n",
    "* Step 3: Crop face image\n",
    "* Step 4: Create image label as folder and saved the croped image in that folder\n",
    "\n",
    "## Haar-cascade Deetection in OpenCV (<a href=\"https://towardsdatascience.com/https-medium-com-dilan-jay-face-detection-model-on-webcam-using-python-72b382699ee9\"> Source </a>)\n",
    "\n",
    "OpenCV comes with a trainer as well as a detector. OpenCV alreadt contains many pretrained classifiers for face, eyes,smile, etc. Those XML files are stored in **_opencv/data/haarcascades/_** folder.\n",
    "\n",
    "```python\n",
    "# Load required XML, classifiers\n",
    "faceCascade = cv2.CascadeClassifier('../detector_architectures/haarcascade_frontalface_default.xml')\n",
    "\n",
    "# Set video source to the default webcam\n",
    "video_capture = cv2.VideoCapture(0)\n",
    "\n",
    "img_counter = 0; # Initialize counter: img_counter\n",
    "# Capture the video\n",
    "while True:\n",
    "    # Capture frame-by-frame\n",
    "    ret, frame = video_capture.read()\n",
    "    \n",
    "    # Convert webcam feed to Grayscale\n",
    "    gray = cv2.cvtColor(frame, cv2.COLOR_BGR2GRAY)\n",
    "    \n",
    "    # Detect faces in the image\n",
    "    faces = faceCascade.detectMultiScale(\n",
    "            gray,\n",
    "            scaleFactor = 1.5,\n",
    "            minNeighbors = 5,\n",
    "            minSize=(30, 30),\n",
    "            flags = cv2.CASCADE_SCALE_IMAGE\n",
    "            )\n",
    "    # Create rectangle where faces are found\n",
    "    for (x, y, w, h) in faces:\n",
    "        cv2.rectangle(frame, (x,y), (x+w, y+h), (0, 255, 0), 2)\n",
    "        \n",
    "    # Show image\n",
    "    cv2.imshow('FaceDetection', frame)\n",
    "    \n",
    "    # Escape method\n",
    "    # ESC Pressed\n",
    "    if (cv2.waitKey(33)%256 == 27):\n",
    "        break\n",
    "     \n",
    "    # Saved image\n",
    "    # SPACE pressed\n",
    "    elif (cv2.waitKey(33)%256 == 32):\n",
    "        img_name = \"facedetect_webcam_{}.png\".format(img_counter)\n",
    "        cv2.imwrite(/dataset/alfian/img_name, frame)\n",
    "        print(\"{} written\".format(img_name))\n",
    "        img_counter +=1\n",
    "        \n",
    "# Clean everything and release the capture\n",
    "video_capture.release()\n",
    "cv2.waitKey(0)\n",
    "cv2.destroyAllWindows()\n",
    "```"
   ]
  },
  {
   "cell_type": "code",
   "execution_count": 4,
   "metadata": {},
   "outputs": [],
   "source": [
    "# Import required library\n",
    "import cv2\n",
    "import numpy as np\n",
    "import ipywidgets as widgets\n",
    "from IPython.display import clear_output, Image, display\n",
    "from io import BytesIO\n",
    "from PIL import Image as PIL_Image"
   ]
  },
  {
   "cell_type": "code",
   "execution_count": 6,
   "metadata": {},
   "outputs": [],
   "source": [
    "DATASETS = ['alfian', 'yusuf', 'others']"
   ]
  },
  {
   "cell_type": "code",
   "execution_count": 8,
   "metadata": {},
   "outputs": [],
   "source": [
    "# Create image preview\n",
    "camera_widget = widgets.Image()\n",
    "\n",
    "# Create widgets\n",
    "label_widget = widgets.Dropdown(options=DATASETS, description='dataset')\n",
    "count_widget = widgets.IntText(description='count')\n",
    "save_widget  = widgets.Button(description='add') \n",
    "\n",
    "# Set the active dataset\n",
    "def set_dataset(change):\n",
    "    global dataset\n",
    "    dataset = datasets[chanel['new']]"
   ]
  },
  {
   "cell_type": "code",
   "execution_count": null,
   "metadata": {},
   "outputs": [],
   "source": [
    "# Load required XML, classifiers\n",
    "faceCascade = cv2.CascadeClassifier('../detector_architectures/haarcascade_frontalface_default.xml')\n",
    "video_capture = cv2.VideoCapture(0)\n",
    "while (True):\n",
    "    ret, frame = video_capture.read()\n",
    "    frame = cv2.cvtColor(frame, cv2.COLOR_BGR2RGB)\n",
    "\n",
    "    # Convert webcam feed to Grayscale\n",
    "    gray = cv2.cvtColor(frame, cv2.COLOR_BGR2GRAY)\n",
    "\n",
    "    # Detect faces in the image\n",
    "    faces = faceCascade.detectMultiScale(\n",
    "            gray,\n",
    "            scaleFactor = 1.5,\n",
    "            minNeighbors = 5,\n",
    "            minSize=(30, 30),\n",
    "            flags = cv2.CASCADE_SCALE_IMAGE\n",
    "            )\n",
    "    # Create rectangle where faces are found\n",
    "    for (x, y, w, h) in faces:\n",
    "        cv2.rectangle(frame, (x,y), (x+w, y+h), (0, 255, 0), 2)\n",
    "\n",
    "    img = PIL_Image.fromarray(frame, \"RGB\")\n",
    "    buffer = BytesIO()\n",
    "    img.save(buffer, format=\"JPEG\")\n",
    "    display(Image(data=buffer.getvalue()))\n",
    "\n",
    "    clear_output(wait=True)\n",
    "    \n",
    "    # Escape method\n",
    "    # ESC Pressed\n",
    "    if (cv2.waitKey(33)%256 == 27):\n",
    "        break\n",
    "     \n",
    "    # Saved image\n",
    "    # SPACE pressed\n",
    "    elif (cv2.waitKey(33)%256 == 32):\n",
    "        img_name = \"facedetect_webcam_{}.png\".format(img_counter)\n",
    "        cv2.imwrite(img_name, frame)\n",
    "        print(\"{} written\".format(img_name))\n",
    "        img_counter +=1\n",
    "    \n",
    "# Clean everything and release the capture\n",
    "video_capture.release()"
   ]
  },
  {
   "cell_type": "code",
   "execution_count": 21,
   "metadata": {},
   "outputs": [
    {
     "name": "stdout",
     "output_type": "stream",
     "text": [
      "122\n"
     ]
    }
   ],
   "source": [
    "import numpy as np\n",
    "\n",
    "img_size = (120,\n",
    "        122)\n",
    "\n",
    "print(img_size[1])"
   ]
  },
  {
   "cell_type": "code",
   "execution_count": 23,
   "metadata": {},
   "outputs": [],
   "source": [
    "import shutil\n"
   ]
  },
  {
   "cell_type": "code",
   "execution_count": 26,
   "metadata": {},
   "outputs": [
    {
     "ename": "NameError",
     "evalue": "name 'alfian' is not defined",
     "output_type": "error",
     "traceback": [
      "\u001b[0;31m---------------------------------------------------------------------------\u001b[0m",
      "\u001b[0;31mNameError\u001b[0m                                 Traceback (most recent call last)",
      "\u001b[0;32m<ipython-input-26-bb4d7bb5f865>\u001b[0m in \u001b[0;36m<module>\u001b[0;34m\u001b[0m\n\u001b[1;32m      1\u001b[0m \u001b[0;32mimport\u001b[0m \u001b[0mos\u001b[0m\u001b[0;34m\u001b[0m\u001b[0;34m\u001b[0m\u001b[0m\n\u001b[0;32m----> 2\u001b[0;31m \u001b[0mprint\u001b[0m\u001b[0;34m(\u001b[0m\u001b[0mos\u001b[0m\u001b[0;34m.\u001b[0m\u001b[0mpath\u001b[0m\u001b[0;34m.\u001b[0m\u001b[0mexists\u001b[0m\u001b[0;34m(\u001b[0m\u001b[0malfian\u001b[0m\u001b[0;34m)\u001b[0m\u001b[0;34m)\u001b[0m\u001b[0;34m\u001b[0m\u001b[0;34m\u001b[0m\u001b[0m\n\u001b[0m",
      "\u001b[0;31mNameError\u001b[0m: name 'alfian' is not defined"
     ]
    }
   ],
   "source": [
    "import os\n",
    "print(os.path.exists(alfian))"
   ]
  }
 ],
 "metadata": {
  "kernelspec": {
   "display_name": "Python 3",
   "language": "python",
   "name": "python3"
  },
  "language_info": {
   "codemirror_mode": {
    "name": "ipython",
    "version": 3
   },
   "file_extension": ".py",
   "mimetype": "text/x-python",
   "name": "python",
   "nbconvert_exporter": "python",
   "pygments_lexer": "ipython3",
   "version": "3.7.5"
  }
 },
 "nbformat": 4,
 "nbformat_minor": 4
}
